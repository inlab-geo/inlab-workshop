{
 "cells": [
  {
   "cell_type": "markdown",
   "id": "d8952942-db87-4e0a-90ff-0eb39cd71105",
   "metadata": {},
   "source": [
    "# <img src=\"https://raw.githubusercontent.com/inlab-geo/cofi/main/docs/source/_static/latte_art_cropped.png\" width=\"5%\" style=\"vertical-align:bottom\"/> workshop-2022\n",
    "\n",
    "[![Open In Colab](https://img.shields.io/badge/open%20in-Colab-b5e2fa?logo=googlecolab&style=flat-square&color=ffd670)](https://colab.research.google.com/github/inlab-geo/workshop-2022/blob/main/index.ipynb)\n",
    "\n",
    "👋 Welcome to CoFI Workshop 2022!\n",
    "\n",
    "## Notebooks\n",
    "\n",
    "1. [Polylnomial linear regression](notebooks/1_linear_regression.ipynb) ([Open in Colab](https://colab.research.google.com/github/inlab-geo/workshop-2022/blob/main/notebooks/1_linear_regression.ipynb))\n",
    "2. [Travel time tomography](notebooks/2_travel_time_tomography.ipynb) ([Open in Colab](https://colab.research.google.com/github/inlab-geo/workshop-2022/blob/main/notebooks/2_travel_time_tomography.ipynb))\n",
    "3. [Electrical resistivity tomography](notebooks/3_electrical_resistivity_tomography.ipynb) ([Open in Colab](https://colab.research.google.com/github/inlab-geo/workshop-2022/blob/main/notebooks/3_electrical_resistivity_tomography.ipynb))\n",
    "\n",
    "## Useful resources\n",
    "\n",
    "- [CoFI Documentation](https://cofi.readthedocs.io)\n",
    "- [Espresso Documentation](https://cofi-espresso.readthedocs.io)\n",
    "- [InLab Website](https://inlab.edu.au)\n"
   ]
  }
 ],
 "metadata": {
  "kernelspec": {
   "display_name": "Python 3 (ipykernel)",
   "language": "python",
   "name": "python3"
  },
  "language_info": {
   "codemirror_mode": {
    "name": "ipython",
    "version": 3
   },
   "file_extension": ".py",
   "mimetype": "text/x-python",
   "name": "python",
   "nbconvert_exporter": "python",
   "pygments_lexer": "ipython3",
   "version": "3.10.6"
  }
 },
 "nbformat": 4,
 "nbformat_minor": 5
}
